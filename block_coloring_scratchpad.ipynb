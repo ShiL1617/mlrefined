{
 "cells": [
  {
   "cell_type": "code",
   "execution_count": 1,
   "metadata": {
    "collapsed": true
   },
   "outputs": [],
   "source": [
    "from IPython import display\n",
    "import matplotlib.pyplot as plt\n",
    "import pandas as pd\n",
    "import matplotlib.colors as mcolors\n",
    "from matplotlib.colors import LinearSegmentedColormap\n",
    "import numpy as np"
   ]
  },
  {
   "cell_type": "code",
   "execution_count": 113,
   "metadata": {
    "collapsed": false
   },
   "outputs": [],
   "source": [
    "colors = [(0.9,0.9,0.9),(1, 0, 0), (0, 1, 0), (0, 0, 1),(0,0,0)]\n",
    "my_cmap = LinearSegmentedColormap.from_list('colormapX', colors, N=100)"
   ]
  },
  {
   "cell_type": "code",
   "execution_count": 114,
   "metadata": {
    "collapsed": false
   },
   "outputs": [
    {
     "data": {
      "image/png": "[encoded data removed]",
      "text/plain": [
       "<matplotlib.figure.Figure at 0x7f1449548750>"
      ]
     },
     "metadata": {},
     "output_type": "display_data"
    }
   ],
   "source": [
    "grid = np.zeros((3,3))\n",
    "grid[0][0]=100\n",
    "\n",
    "fsize = 2\n",
    "fig = plt.figure(figsize = (fsize,fsize),frameon=False)\n",
    "ax = fig.add_subplot(111, aspect='equal')\n",
    "\n",
    "ax.pcolormesh(grid,edgecolors = 'k',linewidth = 0.01,vmin=0,vmax=100,cmap = my_cmap)\n",
    "\n",
    "# pcolormesh\n",
    "# clean up plot\n",
    "ax.axis('off');"
   ]
  },
  {
   "cell_type": "code",
   "execution_count": 19,
   "metadata": {
    "collapsed": false
   },
   "outputs": [
    {
     "data": {
      "image/png": "[encoded data removed]",
      "text/plain": [
       "<matplotlib.figure.Figure at 0x108d04a10>"
      ]
     },
     "metadata": {},
     "output_type": "display_data"
    }
   ],
   "source": [
    "import matplotlib.patches as patches\n",
    "import numpy as np\n",
    "import math\n",
    "\n",
    "fig1 = plt.figure()\n",
    "ax1 = fig1.add_subplot(111, aspect='equal')\n",
    "lonMin = 0\n",
    "lonMax = 10\n",
    "latMin = 0\n",
    "latMax = 10\n",
    "res = 1\n",
    "lonGrid = np.arange(lonMin, lonMax, res)\n",
    "latGrid = np.arange(latMin, latMax, res)\n",
    "\n",
    "# plot colormesh\n",
    "# u = np.random.rand(lonGrid.shape)\n",
    "# v = np.random.rand(lonGrid.shape)\n",
    "u = np.random.randn(10,10)\n",
    "\n",
    "ax1.pcolormesh(lonGrid, latGrid, u)\n",
    "\n",
    "# plot arrow\n",
    "ax1.add_patch(\n",
    "    patches.Arrow(\n",
    "        5,            # x\n",
    "        5,            # y\n",
    "        0.5,            # dx\n",
    "        0,            # dy\n",
    "        width=1.5,       # optional - defaults to 1.0\n",
    "        facecolor = 'k',\n",
    "        edgecolor = 'w',\n",
    "        linewidth= 1,\n",
    "        \n",
    "    )\n",
    ")\n",
    "plt.show()"
   ]
  },
  {
   "cell_type": "code",
   "execution_count": 11,
   "metadata": {
    "collapsed": false
   },
   "outputs": [
    {
     "data": {
      "text/plain": [
       "array([-1,  0,  1,  2,  3,  4,  5,  6,  7,  8,  9])"
      ]
     },
     "execution_count": 11,
     "metadata": {},
     "output_type": "execute_result"
    }
   ],
   "source": [
    "lonGrid"
   ]
  }
 ],
 "metadata": {
  "anaconda-cloud": {},
  "kernelspec": {
   "display_name": "Python [default]",
   "language": "python",
   "name": "python2"
  },
  "language_info": {
   "codemirror_mode": {
    "name": "ipython",
    "version": 2
   },
   "file_extension": ".py",
   "mimetype": "text/x-python",
   "name": "python",
   "nbconvert_exporter": "python",
   "pygments_lexer": "ipython2",
   "version": "2.7.13"
  }
 },
 "nbformat": 4,
 "nbformat_minor": 0
}
